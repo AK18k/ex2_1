{
  "nbformat": 4,
  "nbformat_minor": 0,
  "metadata": {
    "colab": {
      "provenance": []
    },
    "kernelspec": {
      "name": "python3",
      "display_name": "Python 3"
    },
    "language_info": {
      "name": "python"
    }
  },
  "cells": [
    {
      "cell_type": "code",
      "execution_count": 1,
      "metadata": {
        "id": "zssGRJPHDsn3",
        "colab": {
          "base_uri": "https://localhost:8080/"
        },
        "outputId": "a7e2fad1-4e43-4f9f-c2ee-9a450048df3c"
      },
      "outputs": [
        {
          "output_type": "stream",
          "name": "stdout",
          "text": [
            "Cloning into 'ex2_1'...\n",
            "remote: Enumerating objects: 10, done.\u001b[K\n",
            "remote: Counting objects: 100% (10/10), done.\u001b[K\n",
            "remote: Compressing objects: 100% (9/9), done.\u001b[K\n",
            "remote: Total 10 (delta 3), reused 0 (delta 0), pack-reused 0\u001b[K\n",
            "Unpacking objects: 100% (10/10), 3.11 KiB | 1.04 MiB/s, done.\n"
          ]
        }
      ],
      "source": [
        "!git clone https://github.com/AK18k/ex2_1"
      ]
    }
  ]
}