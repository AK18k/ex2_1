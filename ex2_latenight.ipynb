{
  "nbformat": 4,
  "nbformat_minor": 0,
  "metadata": {
    "colab": {
      "provenance": [],
      "gpuType": "T4",
      "include_colab_link": true
    },
    "kernelspec": {
      "name": "python3",
      "display_name": "Python 3"
    },
    "language_info": {
      "name": "python"
    },
    "gpuClass": "standard",
    "accelerator": "GPU"
  },
  "cells": [
    {
      "cell_type": "markdown",
      "metadata": {
        "id": "view-in-github",
        "colab_type": "text"
      },
      "source": [
        "<a href=\"https://colab.research.google.com/github/AK18k/ex2_1/blob/avis_lab/ex2_latenight.ipynb\" target=\"_parent\"><img src=\"https://colab.research.google.com/assets/colab-badge.svg\" alt=\"Open In Colab\"/></a>"
      ]
    },
    {
      "cell_type": "code",
      "source": [
        "!git clone -b avis_lab https://github.com/AK18k/ex2_1\n",
        "\n"
      ],
      "metadata": {
        "id": "K1j_jwEwF_MG"
      },
      "execution_count": null,
      "outputs": []
    },
    {
      "cell_type": "code",
      "source": [
        "import os\n",
        "from google.colab import drive\n",
        "#drive.mount('/content/drive')\n",
        "DATA_PATH = '/content/ex2_1/data/ptb'\n",
        "PATH = '/content/ex2_1'\n",
        "os.chdir('/content/ex2_1')\n",
        "!ls"
      ],
      "metadata": {
        "id": "1TkQzsA-FqiH"
      },
      "execution_count": null,
      "outputs": []
    },
    {
      "cell_type": "code",
      "source": [
        "import torch\n",
        "import torch.nn as nn\n",
        "import torch.nn.functional as F\n",
        "import torch.optim as optim\n",
        "from torch.utils.data import DataLoader, Dataset\n",
        "from torch.nn.utils.rnn import pad_sequence, pack_padded_sequence, pad_packed_sequence\n",
        "import numpy as np\n"
      ],
      "metadata": {
        "id": "GW4fCoGkFZvA"
      },
      "execution_count": null,
      "outputs": []
    },
    {
      "cell_type": "code",
      "source": [
        "device = torch.device('cuda' if torch.cuda.is_available() else 'cpu')\n",
        "print(f'device is {device}')"
      ],
      "metadata": {
        "id": "_962w4A9wmZa"
      },
      "execution_count": null,
      "outputs": []
    },
    {
      "cell_type": "code",
      "source": [
        "import os\n",
        "import torch\n",
        "\n",
        "from collections import Counter\n",
        "\n",
        "\n",
        "class Dictionary(object):\n",
        "    def __init__(self):\n",
        "        self.word2idx = {}\n",
        "        self.idx2word = []\n",
        "        self.counter = Counter()\n",
        "        self.total = 0\n",
        "\n",
        "    def add_word(self, word):\n",
        "        if word not in self.word2idx:\n",
        "            self.idx2word.append(word)\n",
        "            self.word2idx[word] = len(self.idx2word) - 1\n",
        "        token_id = self.word2idx[word]\n",
        "        self.counter[token_id] += 1\n",
        "        self.total += 1\n",
        "        return self.word2idx[word]\n",
        "\n",
        "    def __len__(self):\n",
        "        return len(self.idx2word)\n",
        "\n",
        "\n",
        "class Corpus(object):\n",
        "    def __init__(self, path):\n",
        "        self.dictionary = Dictionary()\n",
        "        self.train = self.tokenize(os.path.join(path, 'train.txt'))\n",
        "        self.valid = self.tokenize(os.path.join(path, 'valid.txt'))\n",
        "        self.test = self.tokenize(os.path.join(path, 'test.txt'))\n",
        "\n",
        "    def tokenize(self, path):\n",
        "        \"\"\"Tokenizes a text file.\"\"\"\n",
        "        assert os.path.exists(path)\n",
        "        # Add words to the dictionary\n",
        "        with open(path, 'r') as f:\n",
        "            tokens = 0\n",
        "            for line in f:\n",
        "                words = line.split() + ['<eos>']\n",
        "                tokens += len(words)\n",
        "                for word in words:\n",
        "                    self.dictionary.add_word(word)\n",
        "\n",
        "        # Tokenize file content\n",
        "        with open(path, 'r') as f:\n",
        "            ids = torch.LongTensor(tokens)\n",
        "            token = 0\n",
        "            for line in f:\n",
        "                words = line.split() + ['<eos>']\n",
        "                for word in words:\n",
        "                    ids[token] = self.dictionary.word2idx[word]\n",
        "                    token += 1\n",
        "\n",
        "        return ids\n"
      ],
      "metadata": {
        "id": "POJC3frTFemX"
      },
      "execution_count": null,
      "outputs": []
    },
    {
      "cell_type": "code",
      "source": [],
      "metadata": {
        "id": "QoH9gEEl2CYI",
        "outputId": "5e1f0f50-2740-4c65-d19b-46e9b7e379f0",
        "colab": {
          "base_uri": "https://localhost:8080/"
        }
      },
      "execution_count": 29,
      "outputs": [
        {
          "output_type": "execute_result",
          "data": {
            "text/plain": [
              "<torch._C.Generator at 0x7f225069d150>"
            ]
          },
          "metadata": {},
          "execution_count": 29
        }
      ]
    },
    {
      "cell_type": "code",
      "source": [
        "# Get first 100 words\n",
        "\n",
        "for word_index in range(100):\n",
        "  print(f'word index = {word_index}, word = {corpus.dictionary.idx2word[word_index]}')"
      ],
      "metadata": {
        "id": "zil5zgoZ0R3x"
      },
      "execution_count": null,
      "outputs": []
    },
    {
      "cell_type": "code",
      "source": [
        "# Assume `data` is a 1D tensor containing your entire dataset\n",
        "batch_size = 20\n",
        "seq_length = 35\n",
        "data = corpus.train\n",
        "num_batches = data.size(0) // (batch_size * seq_length)\n",
        "\n",
        "# Discard any extra data that won't fit into full batches\n",
        "data = data[:num_batches * batch_size * seq_length]\n",
        "\n",
        "# Reshape data into [batch_size, -1], maintaining continuity across batches\n",
        "data = data.view(batch_size, -1)\n",
        "\n",
        "print(data[:, 0:35])\n",
        "print()"
      ],
      "metadata": {
        "id": "dXMud5TmqXna"
      },
      "execution_count": null,
      "outputs": []
    },
    {
      "cell_type": "code",
      "source": [
        "import math\n",
        "import numpy as np\n",
        "import matplotlib.pyplot as plt\n",
        "\n",
        "class Result_Matrix:\n",
        "    def __init__(self, model_type):\n",
        "      self.model_name = model_type\n",
        "      self.nepochs = 0\n",
        "      self.train_ppl = np.array([])\n",
        "      self.val_ppl = np.array([])\n",
        "      self.test_ppl = np.array([])\n",
        "\n",
        "    def add_result(self, result, result_type = 'train'):\n",
        "      if result_type == 'train':\n",
        "        self.train_ppl = np.append(self.train_ppl, result)\n",
        "      elif result_type == 'val':\n",
        "        self.val_ppl = np.append(self.val_ppl, result)\n",
        "      elif result_type == 'test':\n",
        "        self.test_ppl = np.append(self.test_ppl, result)\n",
        "\n",
        "    def get_results(self, result_type = 'train'):\n",
        "      if result_type == 'train':\n",
        "        return(self.train_ppl)\n",
        "      elif result_type == 'val':\n",
        "        return(self.val_ppl)\n",
        "      elif result_type == 'test':\n",
        "        return(self.test_ppl) \n",
        "\n",
        "\n",
        "def plot_results(result_matrix, file_name):\n",
        "  plt.figure()\n",
        "  y = result_matrix.get_results('train')\n",
        "  plt.plot(np.arange(1,len(y)+1), y, label = 'train', color = 'blue')\n",
        "  y = result_matrix.get_results('val')\n",
        "  plt.plot(np.arange(1,len(y)+1), y, label = 'val', color = 'green')\n",
        "  y = result_matrix.get_results('test')\n",
        "  plt.plot(np.arange(1,len(y)+1), y, label = 'test', color = 'red')\n",
        "  plt.legend()\n",
        "  plt.title(f'Model Type = {result_matrix.model_name}')\n",
        "  #plt.ylim((0.75, 1))\n",
        "  plt.xlabel('eoch')\n",
        "  plt.ylabel('perplexity')\n",
        "  plt.grid()\n",
        "  plt.show() \n",
        "\n",
        "  plt.savefig(file_name) \n"
      ],
      "metadata": {
        "id": "fB5XPLnpFhzI"
      },
      "execution_count": null,
      "outputs": []
    },
    {
      "cell_type": "code",
      "source": [
        "# Evaluate the model on test data\n",
        "\n",
        "def test_model(model_):\n",
        "  model_.eval()  \n",
        "\n",
        "  # Define a variable to hold the total loss of the model on the test data\n",
        "  total_loss = 0\n",
        "  total_samples_count = 0\n",
        "\n",
        "  with torch.no_grad():  # turn off gradients, since we are in test mode\n",
        "      for inputs in test_dataloader:\n",
        "          inputs = inputs.to(device)\n",
        "\n",
        "          targets = inputs[:, 1:].contiguous()\n",
        "          inputs = inputs[:, :-1].contiguous()\n",
        "\n",
        "          # Forward pass\n",
        "          outputs = model(inputs)\n",
        "          outputs = outputs.view(-1, outputs.size(-1))\n",
        "\n",
        "          targets = targets.view(-1)\n",
        "          targets = targets.to(device)\n",
        "\n",
        "          loss = loss_function(outputs, targets)\n",
        "\n",
        "          #total_loss += loss.item()\n",
        "\n",
        "          batch_size = inputs.size(0)\n",
        "          total_loss += loss.item() * batch_size\n",
        "          total_samples_count += batch_size \n",
        "\n",
        "  # Compute the average loss over the entire test data\n",
        "  #average_loss = total_loss / len(test_dataloader)\n",
        "\n",
        "  # Compute perplexity based on the average loss\n",
        "  #test_perplexity = math.exp(average_loss)\n",
        "  test_perplexity = np.exp(total_loss / total_samples_count)\n",
        "\n",
        "  results_m.add_result(test_perplexity, 'test') \n",
        "\n",
        "  #print(f\"Test result, Average Loss: {average_loss}, Test Perplexity: {test_perplexity}\")\n",
        "  print(f\"Test results  - Loss: {loss.item()}, Perplexity: {test_perplexity.item()}\")\n",
        "  print('-------------------------------------------------------------------------')\n"
      ],
      "metadata": {
        "id": "RKrJ1foMXKYh"
      },
      "execution_count": null,
      "outputs": []
    },
    {
      "cell_type": "code",
      "source": [
        "corpus = Corpus('data/ptb')"
      ],
      "metadata": {
        "id": "p_oWKWhwye69"
      },
      "execution_count": null,
      "outputs": []
    },
    {
      "cell_type": "code",
      "source": [
        "# hyper params\n",
        "model_type = \"LSTM\" #change to GRU \n",
        "total_epochs = 15\n",
        "embedding_dim = 1500\n",
        "hidden_dim = 200\n",
        "drop_out = 0.4\n",
        "learning_rate = 1e-2\n",
        "# hyper params\n",
        "\n",
        "# Set the random seed manually for reproducibility.\n",
        "torch.manual_seed(1111)\n",
        "\n",
        "# First, let's define a custom Dataset to read the vectors of words\n",
        "class PTBDataset(Dataset):\n",
        "    def __init__(self, data_, sequence_length_=35):\n",
        "        # In practice, `data` should be a list of integers representing the words in the PTB data set.\n",
        "        # self.data = [torch.tensor(item, dtype=torch.long) for item in data]\n",
        "        self.data = data_\n",
        "        self.sequence_length = sequence_length_ + 1\n",
        "  \n",
        "    def __len__(self):\n",
        "        return len(self.data) // self.sequence_length\n",
        "   \n",
        "    def __getitem__(self, idx):\n",
        "        x = self.data[idx * self.sequence_length: (idx + 1) * self.sequence_length]\n",
        "        return x\n",
        "\n",
        "# Collate function to pad sequences in the same batch to the same length\n",
        "def collate(batch):\n",
        "    return pad_sequence(batch, batch_first=True)\n",
        "\n",
        "# Create a DataLoader\n",
        "train_data = corpus.train  \n",
        "data = train_data\n",
        "print(data)\n",
        "dataset = PTBDataset(data)\n",
        "# dataloader = DataLoader(dataset, batch_size=20, collate_fn=collate, shuffle=True)\n",
        "dataloader = DataLoader(dataset, batch_size=20, collate_fn=collate, shuffle=False)\n",
        "\n",
        "# Prepare test data\n",
        "test_data = corpus.test\n",
        "test_dataset = PTBDataset(test_data)\n",
        "test_dataloader = DataLoader(test_dataset, batch_size=1, collate_fn=collate, shuffle=False)\n",
        "\n",
        "# Now let's define the LSTM language model\n",
        "class LanguageModel(nn.Module):\n",
        "    def __init__(self, model_type_, vocab_size, embedding_dim, hidden_dim, nlayers = 2, dropout_ = 0):\n",
        "        super(LanguageModel, self).__init__()\n",
        "        self.model_type = model_type_\n",
        "        self.hidden_dim = hidden_dim\n",
        "        self.nlayers = nlayers        \n",
        "        self.embeddings = nn.Embedding(vocab_size, embedding_dim)\n",
        "        self.dropout = dropout_\n",
        "        self.lstm = nn.LSTM(embedding_dim, hidden_dim, batch_first=True, num_layers = nlayers, dropout = dropout_)\n",
        "        self.gru = nn.GRU(embedding_dim, hidden_dim, batch_first=True, num_layers = nlayers, dropout = dropout_)\n",
        "        self.linear = nn.Linear(hidden_dim, vocab_size)\n",
        "        self.hidden = self.init_hidden(20)  \n",
        "\n",
        "    def init_hidden(self, batch_size):\n",
        "        weight = next(self.parameters())\n",
        "        if self.model_type == 'LSTM':\n",
        "            return (weight.new_zeros(self.nlayers, batch_size, self.hidden_dim),\n",
        "                    weight.new_zeros(self.nlayers, batch_size, self.hidden_dim))\n",
        "        else:  # GRU\n",
        "            return weight.new_zeros(self.nlayers, batch_size, self.hidden_dim)        \n",
        "\n",
        "    def repackage_hidden(self, h):\n",
        "        \"\"\"Wraps hidden states in new Tensors, to detach them from their history.\"\"\"\n",
        "        if isinstance(h, torch.Tensor):\n",
        "            return h.detach()\n",
        "        else:\n",
        "            return tuple(self.repackage_hidden(v) for v in h)\n",
        "\n",
        "    def forward(self, x):\n",
        "        self.hidden = self.repackage_hidden(self.hidden)\n",
        "\n",
        "        x = self.embeddings(x)\n",
        "        if model_type == 'LSTM':\n",
        "          x, _ = self.lstm(x)\n",
        "        elif model_type == 'GRU':\n",
        "          x, _ = self.gru(x)  \n",
        "        x = self.linear(x)\n",
        "\n",
        "        return x\n",
        "\n",
        "# Create the model\n",
        "vocab_size = len(corpus.dictionary)  \n",
        "\n",
        "model = LanguageModel(model_type, vocab_size, embedding_dim, hidden_dim, dropout_ = drop_out)\n",
        "\n",
        "model = model.to(device)\n",
        "\n",
        "# Define a loss function\n",
        "loss_function = nn.CrossEntropyLoss()\n",
        "\n",
        "# Define an optimizer\n",
        "optimizer = optim.Adam(model.parameters(), lr=learning_rate)\n",
        "\n",
        "# Training loop\n",
        "results_m = Result_Matrix(f'{model.model_type}. Dropout = {model.dropout != 0}') \n",
        "\n",
        "for epoch in range(total_epochs):  \n",
        "    model.train()\n",
        "    total_loss = 0.0\n",
        "    total_samples_count = 0\n",
        "    for inputs in dataloader:\n",
        "        inputs = inputs.to(device)        \n",
        "\n",
        "        targets = inputs[:, 1:].contiguous()\n",
        "        inputs = inputs[:, :-1].contiguous()\n",
        "\n",
        "        if (10 < epoch):\n",
        "          #print(f'inputs = {inputs[3, :]}')\n",
        "          words_index = inputs[0, :].cpu()\n",
        "          print('model input', end = ' ')\n",
        "          for word_index in words_index:\n",
        "            print(corpus.dictionary.idx2word[word_index], end = ' ')\n",
        "\n",
        "          print('\\n')\n",
        "\n",
        "          print('model target:', end = ' ')\n",
        "          words_index = targets[0, :].cpu()\n",
        "          for word_index in words_index:\n",
        "            print(corpus.dictionary.idx2word[word_index], end = ' ')\n",
        "          print('\\n')\n",
        "\n",
        "        # Forward pass\n",
        "        print(inputs.shape)\n",
        "        keysin = input('press any key')\n",
        "        outputs = model(inputs)\n",
        "\n",
        "\n",
        "        if (10 < epoch):\n",
        "          # Get class indices\n",
        "          _, predicted_indices = torch.max(outputs[0, :, :], -1)\n",
        "\n",
        "          # Convert indices to words\n",
        "          predicted_words = [corpus.dictionary.idx2word[index] for index in predicted_indices]\n",
        "\n",
        "          # Print predicted words\n",
        "          print('model output:', end = '')\n",
        "          for word in predicted_words:\n",
        "              print(word, end=' ')\n",
        "          print('\\n')        \n",
        "\n",
        "          #user_inp = input('press any key')\n",
        "\n",
        "\n",
        "        outputs = outputs.view(-1, outputs.size(-1))\n",
        "\n",
        "        targets = targets.to(device).view(-1)\n",
        "       \n",
        "        loss = loss_function(outputs, targets)\n",
        "\n",
        "        batch_size = inputs.size(0)\n",
        "        total_loss += loss.item() * batch_size\n",
        "        total_samples_count += batch_size        \n",
        "              \n",
        "        # Backward pass and optimization\n",
        "        optimizer.zero_grad()\n",
        "        loss.backward()\n",
        "\n",
        "        # Print gradients\n",
        "        for name, param in model.named_parameters():\n",
        "            if param.grad is not None:\n",
        "              if torch.any(1e3 < torch.abs(param.grad)):\n",
        "                print(f\"Gradient of {name} is {param.grad.data}\")        \n",
        "\n",
        "        optimizer.step()\n",
        "   \n",
        "    # Calculate perplexity\n",
        "    perplexity = np.exp(total_loss / total_samples_count)\n",
        "    results_m.add_result(perplexity, 'train')  \n",
        "\n",
        "    print(f\"Epoch: {epoch + 1}\")\n",
        "    print(f\"Train results - Loss: {loss.item()}, Perplexity: {perplexity.item()}\")\n",
        "\n",
        "    test_model(model)\n",
        "\n",
        "plot_results(results_m, f'{model.model_type} Dropout = {model.dropout != 0}.jpg')"
      ],
      "metadata": {
        "id": "3ntuJXBfM6Ym"
      },
      "execution_count": null,
      "outputs": []
    },
    {
      "cell_type": "code",
      "source": [
        "outputs.shape"
      ],
      "metadata": {
        "id": "9cR2tzLDERK3"
      },
      "execution_count": null,
      "outputs": []
    },
    {
      "cell_type": "markdown",
      "source": [
        "york ruling that all manufacturers of an <unk> drug are liable for injuries or deaths if the actual maker is n't known <eos> revco received a $ N million takeover offer from texas financier robert \n",
        "\n",
        "\n",
        "\n",
        "york ruling that all manufacturers of an <unk> drug are liable for injuries or deaths if the actual maker is n't known \n",
        " revco received a $ N million takeover offer from texas financier robert bass and acadia partners"
      ],
      "metadata": {
        "id": "pyFmYSmJ5dSO"
      }
    },
    {
      "cell_type": "code",
      "source": [
        "output_softmax = F.softmax(outputs[5])\n",
        "\n",
        "\n",
        "y = output_softmax.cpu()\n",
        "y = y.detach().numpy()\n",
        "print(np.sum(y))\n",
        "print(y.shape)\n",
        "plt.plot(np.arange(1,len(y)+1), y, label = 'outputs', color = 'blue')\n",
        "\n",
        "\n",
        "#plt.legend()\n",
        "plt.title(f'outputs at epoch = {epoch}')\n",
        "#plt.ylim((0.75, 1))\n",
        "plt.xlabel('output')\n",
        "plt.ylabel('value')\n",
        "plt.grid()\n",
        "plt.show()"
      ],
      "metadata": {
        "id": "r8R7HHjIROCY"
      },
      "execution_count": null,
      "outputs": []
    },
    {
      "cell_type": "code",
      "source": [
        "plot_results(results_m, f'{model.model_type} Dropout = {model.dropout != 0}.jpg')"
      ],
      "metadata": {
        "id": "lwrJDdAFwd3A"
      },
      "execution_count": null,
      "outputs": []
    },
    {
      "cell_type": "code",
      "source": [
        "x1 = torch.randn(3, 5, requires_grad=True)\n",
        "print(x1)\n"
      ],
      "metadata": {
        "id": "vsUB5BbpAwOL"
      },
      "execution_count": null,
      "outputs": []
    }
  ]
}