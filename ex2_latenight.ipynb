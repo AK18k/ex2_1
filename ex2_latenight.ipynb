{
  "nbformat": 4,
  "nbformat_minor": 0,
  "metadata": {
    "colab": {
      "provenance": [],
      "machine_shape": "hm",
      "gpuType": "T4",
      "include_colab_link": true
    },
    "kernelspec": {
      "name": "python3",
      "display_name": "Python 3"
    },
    "language_info": {
      "name": "python"
    },
    "gpuClass": "standard",
    "accelerator": "GPU"
  },
  "cells": [
    {
      "cell_type": "markdown",
      "metadata": {
        "id": "view-in-github",
        "colab_type": "text"
      },
      "source": [
        "<a href=\"https://colab.research.google.com/github/AK18k/ex2_1/blob/main/ex2_latenight.ipynb\" target=\"_parent\"><img src=\"https://colab.research.google.com/assets/colab-badge.svg\" alt=\"Open In Colab\"/></a>"
      ]
    },
    {
      "cell_type": "code",
      "source": [
        "!git clone https://github.com/AK18k/ex2_1\n",
        "\n"
      ],
      "metadata": {
        "id": "K1j_jwEwF_MG",
        "outputId": "1452c789-87f0-4cf2-8c0e-daa7396311c8",
        "colab": {
          "base_uri": "https://localhost:8080/"
        }
      },
      "execution_count": 2,
      "outputs": [
        {
          "output_type": "stream",
          "name": "stdout",
          "text": [
            "Cloning into 'ex2_1'...\n",
            "remote: Enumerating objects: 76, done.\u001b[K\n",
            "remote: Counting objects: 100% (76/76), done.\u001b[K\n",
            "remote: Compressing objects: 100% (74/74), done.\u001b[K\n",
            "remote: Total 76 (delta 36), reused 2 (delta 0), pack-reused 0\u001b[K\n",
            "Unpacking objects: 100% (76/76), 2.06 MiB | 3.58 MiB/s, done.\n"
          ]
        }
      ]
    },
    {
      "cell_type": "code",
      "source": [
        "import os\n",
        "from google.colab import drive\n",
        "#drive.mount('/content/drive')\n",
        "DATA_PATH = '/content/ex2_1/data/ptb'\n",
        "PATH = '/content/ex2_1'\n",
        "os.chdir('/content/ex2_1')\n",
        "!ls"
      ],
      "metadata": {
        "id": "1TkQzsA-FqiH",
        "colab": {
          "base_uri": "https://localhost:8080/"
        },
        "outputId": "832f422c-d0fd-4289-87a1-663cc7c6bafc"
      },
      "execution_count": 3,
      "outputs": [
        {
          "output_type": "stream",
          "name": "stdout",
          "text": [
            "data  ex2_latenight.ipynb  main.ipynb  README.md\n"
          ]
        }
      ]
    },
    {
      "cell_type": "code",
      "source": [
        "import torch\n",
        "import torch.nn as nn\n",
        "import torch.nn.functional as F\n",
        "import torch.optim as optim\n",
        "from torch.utils.data import DataLoader, Dataset\n",
        "from torch.nn.utils.rnn import pad_sequence, pack_padded_sequence, pad_packed_sequence\n",
        "import numpy as np\n"
      ],
      "metadata": {
        "id": "GW4fCoGkFZvA"
      },
      "execution_count": 4,
      "outputs": []
    },
    {
      "cell_type": "code",
      "source": [
        "device = torch.device('cuda' if torch.cuda.is_available() else 'cpu')\n",
        "print(f'device is {device}')"
      ],
      "metadata": {
        "colab": {
          "base_uri": "https://localhost:8080/"
        },
        "id": "_962w4A9wmZa",
        "outputId": "3b903390-9773-483e-a81e-54397762b04f"
      },
      "execution_count": 5,
      "outputs": [
        {
          "output_type": "stream",
          "name": "stdout",
          "text": [
            "device is cuda\n"
          ]
        }
      ]
    },
    {
      "cell_type": "code",
      "source": [
        "import os\n",
        "import torch\n",
        "\n",
        "from collections import Counter\n",
        "\n",
        "\n",
        "class Dictionary(object):\n",
        "    def __init__(self):\n",
        "        self.word2idx = {}\n",
        "        self.idx2word = []\n",
        "        self.counter = Counter()\n",
        "        self.total = 0\n",
        "\n",
        "    def add_word(self, word):\n",
        "        if word not in self.word2idx:\n",
        "            self.idx2word.append(word)\n",
        "            self.word2idx[word] = len(self.idx2word) - 1\n",
        "        token_id = self.word2idx[word]\n",
        "        self.counter[token_id] += 1\n",
        "        self.total += 1\n",
        "        return self.word2idx[word]\n",
        "\n",
        "    def __len__(self):\n",
        "        return len(self.idx2word)\n",
        "\n",
        "\n",
        "class Corpus(object):\n",
        "    def __init__(self, path):\n",
        "        self.dictionary = Dictionary()\n",
        "        self.train = self.tokenize(os.path.join(path, 'train.txt'))\n",
        "        self.valid = self.tokenize(os.path.join(path, 'valid.txt'))\n",
        "        self.test = self.tokenize(os.path.join(path, 'test.txt'))\n",
        "\n",
        "    def tokenize(self, path):\n",
        "        \"\"\"Tokenizes a text file.\"\"\"\n",
        "        assert os.path.exists(path)\n",
        "        # Add words to the dictionary\n",
        "        with open(path, 'r') as f:\n",
        "            tokens = 0\n",
        "            for line in f:\n",
        "                words = line.split() + ['<eos>']\n",
        "                tokens += len(words)\n",
        "                for word in words:\n",
        "                    self.dictionary.add_word(word)\n",
        "\n",
        "        # Tokenize file content\n",
        "        with open(path, 'r') as f:\n",
        "            ids = torch.LongTensor(tokens)\n",
        "            token = 0\n",
        "            for line in f:\n",
        "                words = line.split() + ['<eos>']\n",
        "                for word in words:\n",
        "                    ids[token] = self.dictionary.word2idx[word]\n",
        "                    token += 1\n",
        "\n",
        "        return ids\n"
      ],
      "metadata": {
        "id": "POJC3frTFemX"
      },
      "execution_count": 6,
      "outputs": []
    },
    {
      "cell_type": "code",
      "source": [
        "import math\n",
        "import numpy as np\n",
        "import matplotlib.pyplot as plt\n",
        "\n",
        "class Result_Matrix:\n",
        "    def __init__(self, model_type):\n",
        "      self.model_name = model_type\n",
        "      self.nepochs = 0\n",
        "      self.train_ppl = np.array([])\n",
        "      self.val_ppl = np.array([])\n",
        "      self.test_ppl = np.array([])\n",
        "\n",
        "    def add_result(self, result, result_type = 'train'):\n",
        "      if result_type == 'train':\n",
        "        self.train_ppl = np.append(self.train_ppl, result)\n",
        "      elif result_type == 'val':\n",
        "        self.val_ppl = np.append(self.val_ppl, result)\n",
        "      elif result_type == 'test':\n",
        "        self.test_ppl = np.append(self.test_ppl, result)\n",
        "\n",
        "    def get_results(self, result_type = 'train'):\n",
        "      if result_type == 'train':\n",
        "        return(self.train_ppl)\n",
        "      elif result_type == 'val':\n",
        "        return(self.val_ppl)\n",
        "      elif result_type == 'test':\n",
        "        return(self.test_ppl) \n",
        "\n",
        "\n",
        "def plot_results(result_matrix, file_name):\n",
        "  plt.figure()\n",
        "  y = result_matrix.get_results('train')\n",
        "  plt.plot(np.arange(1,len(y)+1), y, label = 'train', color = 'blue')\n",
        "  y = result_matrix.get_results('val')\n",
        "  plt.plot(np.arange(1,len(y)+1), y, label = 'val', color = 'green')\n",
        "  y = result_matrix.get_results('test')\n",
        "  plt.plot(np.arange(1,len(y)+1), y, label = 'test', color = 'red')\n",
        "  plt.legend()\n",
        "  plt.title(f'Model Type = {result_matrix.model_name}')\n",
        "  #plt.ylim((0.75, 1))\n",
        "  plt.xlabel('eoch')\n",
        "  plt.ylabel('perplexity')\n",
        "  plt.grid()\n",
        "  plt.show() \n",
        "\n",
        "  plt.savefig(file_name) \n"
      ],
      "metadata": {
        "id": "fB5XPLnpFhzI"
      },
      "execution_count": 7,
      "outputs": []
    },
    {
      "cell_type": "code",
      "source": [
        "# Evaluate the model on test data\n",
        "\n",
        "def test_model(model_):\n",
        "  model_.eval()  \n",
        "\n",
        "  # Define a variable to hold the total loss of the model on the test data\n",
        "  total_loss = 0\n",
        "  total_samples_count = 0\n",
        "\n",
        "  with torch.no_grad():  # turn off gradients, since we are in test mode\n",
        "      for inputs in test_dataloader:\n",
        "          inputs = inputs.to(device)\n",
        "\n",
        "          targets = inputs[:, 1:].contiguous()\n",
        "          inputs = inputs[:, :-1].contiguous()\n",
        "\n",
        "          # Forward pass\n",
        "          outputs = model(inputs)\n",
        "          outputs = outputs.view(-1, outputs.size(-1))\n",
        "\n",
        "          targets = targets.view(-1)\n",
        "          targets = targets.to(device)\n",
        "\n",
        "          loss = loss_function(outputs, targets)\n",
        "\n",
        "          #total_loss += loss.item()\n",
        "\n",
        "          batch_size = inputs.size(0)\n",
        "          total_loss += loss.item() * batch_size\n",
        "          total_samples_count += batch_size \n",
        "\n",
        "  # Compute the average loss over the entire test data\n",
        "  #average_loss = total_loss / len(test_dataloader)\n",
        "\n",
        "  # Compute perplexity based on the average loss\n",
        "  #test_perplexity = math.exp(average_loss)\n",
        "  test_perplexity = np.exp(total_loss / total_samples_count)\n",
        "\n",
        "  results_m.add_result(test_perplexity, 'test') \n",
        "\n",
        "  #print(f\"Test result, Average Loss: {average_loss}, Test Perplexity: {test_perplexity}\")\n",
        "  print(f\"Test results  - Loss: {loss.item()}, Perplexity: {test_perplexity.item()}\")\n",
        "  print('-------------------------------------------------------------------------')\n"
      ],
      "metadata": {
        "id": "RKrJ1foMXKYh"
      },
      "execution_count": 8,
      "outputs": []
    },
    {
      "cell_type": "code",
      "source": [
        "# hyper params\n",
        "model_type = \"LSTM\" #change to GRU \n",
        "total_epochs = 30\n",
        "embedding_dim = 1500\n",
        "hidden_dim = 200\n",
        "drop_out = 0\n",
        "# hyper params\n",
        "\n",
        "# First, let's define a custom Dataset to read the vectors of words\n",
        "class PTBDataset(Dataset):\n",
        "    def __init__(self, data_, sequence_length_=35):\n",
        "        # In practice, `data` should be a list of integers representing the words in the PTB data set.\n",
        "        # self.data = [torch.tensor(item, dtype=torch.long) for item in data]\n",
        "        self.data = data_\n",
        "        self.sequence_length = sequence_length_ + 1\n",
        "  \n",
        "    def __len__(self):\n",
        "        return len(self.data) // self.sequence_length\n",
        "   \n",
        "    def __getitem__(self, idx):\n",
        "        x = self.data[idx * self.sequence_length: (idx + 1) * self.sequence_length]\n",
        "        return x\n",
        "\n",
        "# Collate function to pad sequences in the same batch to the same length\n",
        "def collate(batch):\n",
        "    return pad_sequence(batch, batch_first=True)\n",
        "\n",
        "# Create a DataLoader\n",
        "corpus = Corpus('data/ptb')\n",
        "train_data = corpus.train  \n",
        "data = train_data\n",
        "print(data)\n",
        "dataset = PTBDataset(data)\n",
        "# dataloader = DataLoader(dataset, batch_size=20, collate_fn=collate, shuffle=True)\n",
        "dataloader = DataLoader(dataset, batch_size=20, collate_fn=collate, shuffle=True)\n",
        "\n",
        "# Prepare test data\n",
        "test_data = corpus.test\n",
        "test_dataset = PTBDataset(test_data)\n",
        "test_dataloader = DataLoader(test_dataset, batch_size=1, collate_fn=collate, shuffle=True)\n",
        "\n",
        "# Now let's define the LSTM language model\n",
        "class LanguageModel(nn.Module):\n",
        "    def __init__(self, model_type_, vocab_size, embedding_dim, hidden_dim, nlayers = 2, dropout_ = 0):\n",
        "        super(LanguageModel, self).__init__()\n",
        "        self.model_type = model_type_\n",
        "        self.embeddings = nn.Embedding(vocab_size, embedding_dim)\n",
        "        self.dropout = dropout_\n",
        "        self.lstm = nn.LSTM(embedding_dim, hidden_dim, batch_first=True, num_layers = nlayers, dropout = dropout_)\n",
        "        self.gru = nn.GRU(embedding_dim, hidden_dim, batch_first=True, num_layers = nlayers, dropout = dropout_)\n",
        "        self.linear = nn.Linear(hidden_dim, vocab_size)\n",
        "\n",
        "    def forward(self, x):\n",
        "        x = self.embeddings(x)\n",
        "        if model_type == 'LSTM':\n",
        "          x, _ = self.lstm(x)\n",
        "        elif model_type == 'GRU':\n",
        "          x, _ = self.gru(x)  \n",
        "        x = self.linear(x)\n",
        "\n",
        "        return x\n",
        "\n",
        "# Create the model\n",
        "vocab_size = len(corpus.dictionary)  \n",
        "\n",
        "model = LanguageModel(model_type, vocab_size, embedding_dim, hidden_dim, dropout_ = drop_out)\n",
        "\n",
        "model = model.to(device)\n",
        "\n",
        "# Define a loss function\n",
        "loss_function = nn.CrossEntropyLoss()\n",
        "\n",
        "# Define an optimizer\n",
        "optimizer = optim.Adam(model.parameters(), lr=0.1)\n",
        "\n",
        "# Training loop\n",
        "results_m = Result_Matrix(f'{model.model_type}. Dropout = {model.dropout != 0}') \n",
        "\n",
        "for epoch in range(total_epochs):  \n",
        "    model.train()\n",
        "    total_loss = 0.0\n",
        "    total_samples_count = 0\n",
        "    for inputs in dataloader:\n",
        "        inputs = inputs.to(device)        \n",
        "\n",
        "        targets = inputs[:, 1:].contiguous()\n",
        "        inputs = inputs[:, :-1].contiguous()\n",
        "\n",
        "        # Forward pass\n",
        "        outputs = model(inputs)\n",
        "        outputs = outputs.view(-1, outputs.size(-1))\n",
        "\n",
        "        targets = targets.to(device).view(-1)\n",
        "       \n",
        "        loss = loss_function(outputs, targets)\n",
        "\n",
        "        batch_size = inputs.size(0)\n",
        "        total_loss += loss.item() * batch_size\n",
        "        total_samples_count += batch_size        \n",
        "              \n",
        "        # Backward pass and optimization\n",
        "        optimizer.zero_grad()\n",
        "        loss.backward()\n",
        "        optimizer.step()\n",
        "   \n",
        "    # Calculate perplexity\n",
        "    perplexity = np.exp(total_loss / total_samples_count)\n",
        "    results_m.add_result(perplexity, 'train')  \n",
        "\n",
        "    print(f\"Epoch: {epoch + 1}\")\n",
        "    print(f\"Train results - Loss: {loss.item()}, Perplexity: {perplexity.item()}\")\n",
        "\n",
        "    test_model(model)\n",
        "\n",
        "plot_results(results_m, f'{model.model_type} Dropout = {model.dropout != 0}.jpg')"
      ],
      "metadata": {
        "colab": {
          "base_uri": "https://localhost:8080/",
          "height": 1000
        },
        "id": "3ntuJXBfM6Ym",
        "outputId": "3548e7ef-fb58-41a4-ffca-572a0f75abbd"
      },
      "execution_count": 13,
      "outputs": [
        {
          "output_type": "stream",
          "name": "stdout",
          "text": [
            "tensor([ 0,  1,  2,  ..., 39, 26, 24])\n",
            "Epoch: 1\n",
            "Train results - Loss: 7.297508239746094, Perplexity: 504.65364310503594\n",
            "Test results  - Loss: 6.132781982421875, Perplexity: 455.24201514161535\n",
            "-------------------------------------------------------------------------\n",
            "Epoch: 2\n",
            "Train results - Loss: 6.630979061126709, Perplexity: 408.9741921186862\n",
            "Test results  - Loss: 6.035867691040039, Perplexity: 442.0855524135907\n",
            "-------------------------------------------------------------------------\n",
            "Epoch: 3\n",
            "Train results - Loss: 6.1506571769714355, Perplexity: 390.5668043414891\n",
            "Test results  - Loss: 6.327908992767334, Perplexity: 443.39652228836906\n",
            "-------------------------------------------------------------------------\n",
            "Epoch: 4\n",
            "Train results - Loss: 5.76784086227417, Perplexity: 383.5555063431255\n",
            "Test results  - Loss: 6.476974010467529, Perplexity: 446.83500723069784\n",
            "-------------------------------------------------------------------------\n",
            "Epoch: 5\n",
            "Train results - Loss: 5.328309535980225, Perplexity: 379.78797547460556\n",
            "Test results  - Loss: 6.35996675491333, Perplexity: 455.4481791569678\n",
            "-------------------------------------------------------------------------\n",
            "Epoch: 6\n",
            "Train results - Loss: 3.0013160705566406, Perplexity: 377.7525522130229\n",
            "Test results  - Loss: 6.314445972442627, Perplexity: 466.29291637761065\n",
            "-------------------------------------------------------------------------\n",
            "Epoch: 7\n",
            "Train results - Loss: 6.152235984802246, Perplexity: 378.66310332570436\n",
            "Test results  - Loss: 6.331167221069336, Perplexity: 478.28510369289364\n",
            "-------------------------------------------------------------------------\n",
            "Epoch: 8\n",
            "Train results - Loss: 7.249995231628418, Perplexity: 382.8684260150825\n",
            "Test results  - Loss: 6.0656328201293945, Perplexity: 484.3543794143433\n",
            "-------------------------------------------------------------------------\n",
            "Epoch: 9\n",
            "Train results - Loss: 6.286184310913086, Perplexity: 379.8051305210571\n",
            "Test results  - Loss: 6.193833351135254, Perplexity: 489.2286251234299\n",
            "-------------------------------------------------------------------------\n",
            "Epoch: 10\n",
            "Train results - Loss: 5.809948444366455, Perplexity: 379.48869143353414\n",
            "Test results  - Loss: 6.477334499359131, Perplexity: 487.7633727378465\n",
            "-------------------------------------------------------------------------\n",
            "Epoch: 11\n",
            "Train results - Loss: 6.213785171508789, Perplexity: 377.34607409167666\n",
            "Test results  - Loss: 6.388913154602051, Perplexity: 493.79771007174975\n",
            "-------------------------------------------------------------------------\n",
            "Epoch: 12\n",
            "Train results - Loss: 7.163332939147949, Perplexity: 377.02450233804296\n",
            "Test results  - Loss: 6.299305438995361, Perplexity: 500.98455972337416\n",
            "-------------------------------------------------------------------------\n",
            "Epoch: 13\n",
            "Train results - Loss: 6.138365745544434, Perplexity: 377.56351962772015\n",
            "Test results  - Loss: 6.536246299743652, Perplexity: 506.93048241385833\n",
            "-------------------------------------------------------------------------\n",
            "Epoch: 14\n",
            "Train results - Loss: 6.761755466461182, Perplexity: 379.51442203090625\n",
            "Test results  - Loss: 6.668542385101318, Perplexity: 508.6831404584502\n",
            "-------------------------------------------------------------------------\n",
            "Epoch: 15\n",
            "Train results - Loss: 6.130018711090088, Perplexity: 377.23233340510615\n",
            "Test results  - Loss: 6.017334461212158, Perplexity: 512.4328307472304\n",
            "-------------------------------------------------------------------------\n",
            "Epoch: 16\n",
            "Train results - Loss: 5.595503330230713, Perplexity: 376.0076082569637\n",
            "Test results  - Loss: 6.4358696937561035, Perplexity: 523.0587942117866\n",
            "-------------------------------------------------------------------------\n",
            "Epoch: 17\n",
            "Train results - Loss: 6.640739917755127, Perplexity: 377.07855183856697\n",
            "Test results  - Loss: 5.961335182189941, Perplexity: 527.4174855266675\n",
            "-------------------------------------------------------------------------\n",
            "Epoch: 18\n",
            "Train results - Loss: 6.22571325302124, Perplexity: 377.68056674766206\n",
            "Test results  - Loss: 5.9278693199157715, Perplexity: 538.422252219024\n",
            "-------------------------------------------------------------------------\n",
            "Epoch: 19\n",
            "Train results - Loss: 2.632547378540039, Perplexity: 378.5208857797302\n",
            "Test results  - Loss: 6.6536641120910645, Perplexity: 538.9317022549203\n",
            "-------------------------------------------------------------------------\n",
            "Epoch: 20\n",
            "Train results - Loss: 6.3784050941467285, Perplexity: 377.31755906328146\n",
            "Test results  - Loss: 6.185217380523682, Perplexity: 539.6183065501751\n",
            "-------------------------------------------------------------------------\n",
            "Epoch: 21\n",
            "Train results - Loss: 6.260056495666504, Perplexity: 377.2272923643913\n",
            "Test results  - Loss: 5.526666164398193, Perplexity: 540.7966520842976\n",
            "-------------------------------------------------------------------------\n",
            "Epoch: 22\n",
            "Train results - Loss: 6.622010707855225, Perplexity: 376.37762620999723\n",
            "Test results  - Loss: 5.999326705932617, Perplexity: 535.924816757923\n",
            "-------------------------------------------------------------------------\n",
            "Epoch: 23\n",
            "Train results - Loss: 5.61133337020874, Perplexity: 377.3526295679624\n",
            "Test results  - Loss: 6.622993469238281, Perplexity: 547.2761808816102\n",
            "-------------------------------------------------------------------------\n",
            "Epoch: 24\n",
            "Train results - Loss: 6.011550426483154, Perplexity: 376.56426926341555\n",
            "Test results  - Loss: 5.582540512084961, Perplexity: 548.4622575545709\n",
            "-------------------------------------------------------------------------\n",
            "Epoch: 25\n",
            "Train results - Loss: 4.4588422775268555, Perplexity: 376.67932220213663\n",
            "Test results  - Loss: 6.040318965911865, Perplexity: 544.6278732564818\n",
            "-------------------------------------------------------------------------\n",
            "Epoch: 26\n",
            "Train results - Loss: 5.209587574005127, Perplexity: 376.9303646288461\n",
            "Test results  - Loss: 6.115345478057861, Perplexity: 550.5263485129987\n",
            "-------------------------------------------------------------------------\n",
            "Epoch: 27\n",
            "Train results - Loss: 5.751866340637207, Perplexity: 375.4604531139764\n",
            "Test results  - Loss: 6.34275484085083, Perplexity: 551.9772298162615\n",
            "-------------------------------------------------------------------------\n",
            "Epoch: 28\n",
            "Train results - Loss: 6.566765785217285, Perplexity: 378.7520386900461\n",
            "Test results  - Loss: 6.6382060050964355, Perplexity: 551.7486537724691\n",
            "-------------------------------------------------------------------------\n",
            "Epoch: 29\n",
            "Train results - Loss: 6.8806071281433105, Perplexity: 378.3814243572699\n",
            "Test results  - Loss: 6.444580554962158, Perplexity: 550.5709270127538\n",
            "-------------------------------------------------------------------------\n",
            "Epoch: 30\n",
            "Train results - Loss: 3.9148402214050293, Perplexity: 376.3919208426058\n",
            "Test results  - Loss: 6.76547908782959, Perplexity: 550.8138545940961\n",
            "-------------------------------------------------------------------------\n"
          ]
        },
        {
          "output_type": "display_data",
          "data": {
            "text/plain": [
              "<Figure size 640x480 with 1 Axes>"
            ],
            "image/png": "[encoded data removed]"
          },
          "metadata": {}
        },
        {
          "output_type": "display_data",
          "data": {
            "text/plain": [
              "<Figure size 640x480 with 0 Axes>"
            ]
          },
          "metadata": {}
        }
      ]
    },
    {
      "cell_type": "code",
      "source": [
        "plot_results(results_m, f'{model.model_type} Dropout = {model.dropout != 0}.jpg')"
      ],
      "metadata": {
        "id": "lwrJDdAFwd3A",
        "outputId": "84e141ae-d16f-4b6c-e232-efbe486c8a45",
        "colab": {
          "base_uri": "https://localhost:8080/",
          "height": 489
        }
      },
      "execution_count": 10,
      "outputs": [
        {
          "output_type": "display_data",
          "data": {
            "text/plain": [
              "<Figure size 640x480 with 1 Axes>"
            ],
            "image/png": "[encoded data removed]"
          },
          "metadata": {}
        },
        {
          "output_type": "display_data",
          "data": {
            "text/plain": [
              "<Figure size 640x480 with 0 Axes>"
            ]
          },
          "metadata": {}
        }
      ]
    }
  ]
}