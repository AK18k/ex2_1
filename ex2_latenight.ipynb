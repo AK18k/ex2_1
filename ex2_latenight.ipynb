{
  "nbformat": 4,
  "nbformat_minor": 0,
  "metadata": {
    "colab": {
      "provenance": [],
      "machine_shape": "hm",
      "gpuType": "V100",
      "include_colab_link": true
    },
    "kernelspec": {
      "name": "python3",
      "display_name": "Python 3"
    },
    "language_info": {
      "name": "python"
    },
    "gpuClass": "standard",
    "accelerator": "GPU"
  },
  "cells": [
    {
      "cell_type": "markdown",
      "metadata": {
        "id": "view-in-github",
        "colab_type": "text"
      },
      "source": [
        "<a href=\"https://colab.research.google.com/github/AK18k/ex2_1/blob/main/ex2_latenight.ipynb\" target=\"_parent\"><img src=\"https://colab.research.google.com/assets/colab-badge.svg\" alt=\"Open In Colab\"/></a>"
      ]
    },
    {
      "cell_type": "code",
      "source": [
        "!git clone https://github.com/AK18k/ex2_1\n",
        "\n"
      ],
      "metadata": {
        "id": "K1j_jwEwF_MG",
        "outputId": "556386c1-01a5-4b97-87a6-beebe777b9d9",
        "colab": {
          "base_uri": "https://localhost:8080/"
        }
      },
      "execution_count": 30,
      "outputs": [
        {
          "output_type": "stream",
          "name": "stdout",
          "text": [
            "fatal: destination path 'ex2_1' already exists and is not an empty directory.\n"
          ]
        }
      ]
    },
    {
      "cell_type": "code",
      "source": [
        "import os\n",
        "from google.colab import drive\n",
        "#drive.mount('/content/drive')\n",
        "DATA_PATH = '/content/ex2_1/data/ptb'\n",
        "PATH = '/content/ex2_1'\n",
        "os.chdir('/content/ex2_1')\n",
        "!ls"
      ],
      "metadata": {
        "id": "1TkQzsA-FqiH",
        "colab": {
          "base_uri": "https://localhost:8080/"
        },
        "outputId": "1b72c0f7-8f64-4992-b219-6b507cc01eb4"
      },
      "execution_count": 1,
      "outputs": [
        {
          "output_type": "stream",
          "name": "stdout",
          "text": [
            "data  ex2_1  ex2_latenight.ipynb  main.ipynb  README.md\n"
          ]
        }
      ]
    },
    {
      "cell_type": "code",
      "source": [
        "import torch\n",
        "import torch.nn as nn\n",
        "import torch.nn.functional as F\n",
        "import torch.optim as optim\n",
        "from torch.utils.data import DataLoader, Dataset\n",
        "from torch.nn.utils.rnn import pad_sequence, pack_padded_sequence, pad_packed_sequence\n",
        "import numpy as np\n"
      ],
      "metadata": {
        "id": "GW4fCoGkFZvA"
      },
      "execution_count": 8,
      "outputs": []
    },
    {
      "cell_type": "code",
      "source": [
        "device = torch.device('cuda' if torch.cuda.is_available() else 'cpu')\n",
        "print(f'device is {device}')"
      ],
      "metadata": {
        "colab": {
          "base_uri": "https://localhost:8080/"
        },
        "id": "_962w4A9wmZa",
        "outputId": "02307967-c9c9-4740-8f4c-4462b0e00791"
      },
      "execution_count": 3,
      "outputs": [
        {
          "output_type": "stream",
          "name": "stdout",
          "text": [
            "device is cuda\n"
          ]
        }
      ]
    },
    {
      "cell_type": "code",
      "source": [
        "import os\n",
        "import torch\n",
        "\n",
        "from collections import Counter\n",
        "\n",
        "\n",
        "class Dictionary(object):\n",
        "    def __init__(self):\n",
        "        self.word2idx = {}\n",
        "        self.idx2word = []\n",
        "        self.counter = Counter()\n",
        "        self.total = 0\n",
        "\n",
        "    def add_word(self, word):\n",
        "        if word not in self.word2idx:\n",
        "            self.idx2word.append(word)\n",
        "            self.word2idx[word] = len(self.idx2word) - 1\n",
        "        token_id = self.word2idx[word]\n",
        "        self.counter[token_id] += 1\n",
        "        self.total += 1\n",
        "        return self.word2idx[word]\n",
        "\n",
        "    def __len__(self):\n",
        "        return len(self.idx2word)\n",
        "\n",
        "\n",
        "class Corpus(object):\n",
        "    def __init__(self, path):\n",
        "        self.dictionary = Dictionary()\n",
        "        self.train = self.tokenize(os.path.join(path, 'train.txt'))\n",
        "        self.valid = self.tokenize(os.path.join(path, 'valid.txt'))\n",
        "        self.test = self.tokenize(os.path.join(path, 'test.txt'))\n",
        "\n",
        "    def tokenize(self, path):\n",
        "        \"\"\"Tokenizes a text file.\"\"\"\n",
        "        assert os.path.exists(path)\n",
        "        # Add words to the dictionary\n",
        "        with open(path, 'r') as f:\n",
        "            tokens = 0\n",
        "            for line in f:\n",
        "                words = line.split() + ['<eos>']\n",
        "                tokens += len(words)\n",
        "                for word in words:\n",
        "                    self.dictionary.add_word(word)\n",
        "\n",
        "        # Tokenize file content\n",
        "        with open(path, 'r') as f:\n",
        "            ids = torch.LongTensor(tokens)\n",
        "            token = 0\n",
        "            for line in f:\n",
        "                words = line.split() + ['<eos>']\n",
        "                for word in words:\n",
        "                    ids[token] = self.dictionary.word2idx[word]\n",
        "                    token += 1\n",
        "\n",
        "        return ids\n"
      ],
      "metadata": {
        "id": "POJC3frTFemX"
      },
      "execution_count": 4,
      "outputs": []
    },
    {
      "cell_type": "code",
      "source": [
        "import math\n",
        "import numpy as np\n",
        "import matplotlib.pyplot as plt\n",
        "\n",
        "class Result_Matrix:\n",
        "    def __init__(self, model_type):\n",
        "      self.model_name = model_type\n",
        "      self.nepochs = 0\n",
        "      self.train_ppl = np.array([])\n",
        "      self.val_ppl = np.array([])\n",
        "      self.test_ppl = np.array([])\n",
        "\n",
        "    def add_result(self, result, result_type = 'train'):\n",
        "      if result_type == 'train':\n",
        "        self.train_ppl = np.append(self.train_ppl, result)\n",
        "      elif result_type == 'val':\n",
        "        self.val_ppl = np.append(self.val_ppl, result)\n",
        "      elif result_type == 'test':\n",
        "        self.test_ppl = np.append(self.test_ppl, result)\n",
        "\n",
        "    def get_results(self, result_type = 'train'):\n",
        "      if result_type == 'train':\n",
        "        return(self.train_ppl)\n",
        "      elif result_type == 'val':\n",
        "        return(self.val_ppl)\n",
        "      elif result_type == 'test':\n",
        "        return(self.test_ppl) \n",
        "\n",
        "\n",
        "def plot_results(result_matrix):\n",
        "  plt.figure()\n",
        "  y = result_matrix.get_results('train')\n",
        "  plt.plot(np.arange(1,len(y)+1), y, label = 'train', color = 'blue')\n",
        "  y = result_matrix.get_results('val')\n",
        "  plt.plot(np.arange(1,len(y)+1), y, label = 'val', color = 'green')\n",
        "  y = result_matrix.get_results('test')\n",
        "  plt.plot(np.arange(1,len(y)+1), y, label = 'test', color = 'red')\n",
        "  plt.legend()\n",
        "  plt.title(f'Model Type = {result_matrix.model_name}')\n",
        "  #plt.ylim((0.75, 1))\n",
        "  plt.xlabel('eoch')\n",
        "  plt.ylabel('perplexity')\n",
        "  plt.grid()\n",
        "  plt.show()  \n"
      ],
      "metadata": {
        "id": "fB5XPLnpFhzI"
      },
      "execution_count": 5,
      "outputs": []
    },
    {
      "cell_type": "code",
      "source": [
        "\n",
        "\n",
        "# First, let's define a custom Dataset to read the vectors of words\n",
        "class PTBDataset(Dataset):\n",
        "    def __init__(self, data_, sequence_length_=35):\n",
        "        # In practice, `data` should be a list of integers representing the words in the PTB data set.\n",
        "        # self.data = [torch.tensor(item, dtype=torch.long) for item in data]\n",
        "        self.data = data_\n",
        "        self.sequence_length = sequence_length_ + 1\n",
        "  \n",
        "    def __len__(self):\n",
        "        return len(self.data) // self.sequence_length\n",
        "   \n",
        "    def __getitem__(self, idx):\n",
        "        x = self.data[idx * self.sequence_length: (idx + 1) * self.sequence_length]\n",
        "        return x\n",
        "\n",
        "# Collate function to pad sequences in the same batch to the same length\n",
        "def collate(batch):\n",
        "    return pad_sequence(batch, batch_first=True)\n",
        "\n",
        "# Create a DataLoader\n",
        "corpus = Corpus('data/ptb')\n",
        "train_data = corpus.train  \n",
        "data = train_data\n",
        "print(data)\n",
        "dataset = PTBDataset(data)\n",
        "# dataloader = DataLoader(dataset, batch_size=20, collate_fn=collate, shuffle=True)\n",
        "dataloader = DataLoader(dataset, batch_size=20, collate_fn=collate, shuffle=False)\n",
        "\n",
        "# Now let's define the LSTM language model\n",
        "class LanguageModel(nn.Module):\n",
        "    def __init__(self, vocab_size, embedding_dim, hidden_dim, nlayers = 2, dropout_ = 0):\n",
        "        super(LanguageModel, self).__init__()\n",
        "        self.embeddings = nn.Embedding(vocab_size, embedding_dim)\n",
        "        self.lstm = nn.LSTM(embedding_dim, hidden_dim, batch_first=True, num_layers = nlayers, dropout = dropout_)\n",
        "        self.linear = nn.Linear(hidden_dim, vocab_size)\n",
        "\n",
        "    def forward(self, x):\n",
        "        x = self.embeddings(x)\n",
        "        x, _ = self.lstm(x)\n",
        "        x = self.linear(x)\n",
        "\n",
        "        return x\n",
        "\n",
        "# Create the model\n",
        "vocab_size = len(corpus.dictionary)  \n",
        "embedding_dim = 300\n",
        "hidden_dim = 512\n",
        "drop_out = 0\n",
        "model = LanguageModel(vocab_size, embedding_dim, hidden_dim, dropout_ = drop_out)\n",
        "\n",
        "model = model.to(device)\n",
        "\n",
        "# Define a loss function\n",
        "loss_function = nn.CrossEntropyLoss()\n",
        "\n",
        "# Define an optimizer\n",
        "optimizer = optim.Adam(model.parameters(), lr=0.01)\n",
        "\n",
        "# Training loop\n",
        "results_m = Result_Matrix('LSTM') \n",
        "total_epochs = 15\n",
        "for epoch in range(total_epochs):  # replace 10 with the number of epochs you want to train\n",
        "    total_loss = 0.0\n",
        "    total_samples_count = 0\n",
        "    for inputs in dataloader:\n",
        "        inputs = inputs.to(device)        \n",
        "\n",
        "        targets = inputs[:, 1:].contiguous()\n",
        "        inputs = inputs[:, :-1].contiguous()\n",
        "\n",
        "        # Forward pass\n",
        "        outputs = model(inputs)\n",
        "        outputs = outputs.view(-1, outputs.size(-1))\n",
        "\n",
        "        targets = targets.to(device).view(-1)\n",
        "       \n",
        "        loss = loss_function(outputs, targets)\n",
        "\n",
        "        batch_size = inputs.size(0)\n",
        "        total_loss += loss.item() * batch_size\n",
        "        total_samples_count += batch_size        \n",
        "              \n",
        "        # Backward pass and optimization\n",
        "        optimizer.zero_grad()\n",
        "        loss.backward()\n",
        "        optimizer.step()\n",
        "   \n",
        "    # Calculate perplexity\n",
        "    perplexity = np.exp(total_loss / total_samples_count)\n",
        "    results_m.add_result(perplexity, 'train')  \n",
        "    print(f\"Epoch: {epoch+1}, Loss: {loss.item()}, Perplexity: {perplexity.item()}\")\n",
        "\n",
        "plot_results(results_m)"
      ],
      "metadata": {
        "colab": {
          "base_uri": "https://localhost:8080/",
          "height": 750
        },
        "id": "3ntuJXBfM6Ym",
        "outputId": "553871d3-046a-46f3-b621-c54170907554"
      },
      "execution_count": 25,
      "outputs": [
        {
          "output_type": "stream",
          "name": "stdout",
          "text": [
            "tensor([ 0,  1,  2,  ..., 39, 26, 24])\n",
            "Epoch: 1, Loss: 6.539012432098389, Perplexity: 675.6843482929496\n",
            "Epoch: 2, Loss: 6.105538368225098, Perplexity: 404.2706124042861\n",
            "Epoch: 3, Loss: 5.833393573760986, Perplexity: 300.6861959206639\n",
            "Epoch: 4, Loss: 5.3306708335876465, Perplexity: 249.84286392593762\n",
            "Epoch: 5, Loss: 5.229172706604004, Perplexity: 218.91847552144336\n",
            "Epoch: 6, Loss: 5.000174522399902, Perplexity: 210.93537445892142\n",
            "Epoch: 7, Loss: 4.686925411224365, Perplexity: 190.97666245945408\n",
            "Epoch: 8, Loss: 4.493358612060547, Perplexity: 181.83362056079596\n",
            "Epoch: 9, Loss: 4.493052005767822, Perplexity: 175.16148506132438\n",
            "Epoch: 10, Loss: 4.254825592041016, Perplexity: 169.4817924938818\n",
            "Epoch: 11, Loss: 4.390707492828369, Perplexity: 164.19836719358173\n",
            "Epoch: 12, Loss: 4.315735340118408, Perplexity: 159.53854644046643\n",
            "Epoch: 13, Loss: 4.131985664367676, Perplexity: 155.87564346339823\n",
            "Epoch: 14, Loss: 4.208911895751953, Perplexity: 152.88766528064215\n",
            "Epoch: 15, Loss: 4.152574062347412, Perplexity: 149.4985962069343\n"
          ]
        },
        {
          "output_type": "display_data",
          "data": {
            "text/plain": [
              "<Figure size 640x480 with 1 Axes>"
            ],
            "image/png": "[encoded data removed]"
          },
          "metadata": {}
        }
      ]
    },
    {
      "cell_type": "code",
      "source": [
        "# Evaluate the model on test data\n",
        "model.eval()\n",
        "model.to(device)\n",
        "\n",
        "test_data = corpus.test\n",
        "test_dataset = PTBDataset(test_data)\n",
        "test_dataloader = DataLoader(test_dataset, batch_size=20, collate_fn=collate, shuffle=False)\n",
        "\n",
        "# Define a variable to hold the total loss of the model on the test data\n",
        "total_loss = 0\n",
        "\n",
        "with torch.no_grad():  # turn off gradients, since we are in test mode\n",
        "    for inputs in test_dataloader:\n",
        "        targets = inputs[:, 1:].contiguous()\n",
        "        inputs = inputs[:, :-1].contiguous()\n",
        "\n",
        "        inputs.to(device)        \n",
        "        targets.to(device)\n",
        "\n",
        "        # Forward pass\n",
        "        outputs = model(inputs)\n",
        "        outputs = outputs.view(-1, outputs.size(-1))\n",
        "\n",
        "        targets = targets.view(-1)\n",
        "\n",
        "        loss = loss_function(outputs, targets)\n",
        "\n",
        "        total_loss += loss.item()\n",
        "\n",
        "# Compute the average loss over the entire test data\n",
        "average_loss = total_loss / len(test_dataloader)\n",
        "\n",
        "# Compute perplexity based on the average loss\n",
        "test_perplexity = math.exp(average_loss)\n",
        "\n",
        "print(f\"Average Loss: {average_loss}, Test Perplexity: {test_perplexity}\")\n"
      ],
      "metadata": {
        "id": "RKrJ1foMXKYh",
        "outputId": "8fbcbd4f-03fb-4a23-d8cf-9d0835e8d9e4",
        "colab": {
          "base_uri": "https://localhost:8080/",
          "height": 415
        }
      },
      "execution_count": 30,
      "outputs": [
        {
          "output_type": "error",
          "ename": "RuntimeError",
          "evalue": "ignored",
          "traceback": [
            "\u001b[0;31m---------------------------------------------------------------------------\u001b[0m",
            "\u001b[0;31mRuntimeError\u001b[0m                              Traceback (most recent call last)",
            "\u001b[0;32m<ipython-input-30-26b4be7dc4e1>\u001b[0m in \u001b[0;36m<cell line: 12>\u001b[0;34m()\u001b[0m\n\u001b[1;32m     21\u001b[0m \u001b[0;34m\u001b[0m\u001b[0m\n\u001b[1;32m     22\u001b[0m         \u001b[0;31m# Forward pass\u001b[0m\u001b[0;34m\u001b[0m\u001b[0;34m\u001b[0m\u001b[0m\n\u001b[0;32m---> 23\u001b[0;31m         \u001b[0moutputs\u001b[0m \u001b[0;34m=\u001b[0m \u001b[0mmodel\u001b[0m\u001b[0;34m(\u001b[0m\u001b[0minputs\u001b[0m\u001b[0;34m)\u001b[0m\u001b[0;34m\u001b[0m\u001b[0;34m\u001b[0m\u001b[0m\n\u001b[0m\u001b[1;32m     24\u001b[0m         \u001b[0moutputs\u001b[0m \u001b[0;34m=\u001b[0m \u001b[0moutputs\u001b[0m\u001b[0;34m.\u001b[0m\u001b[0mview\u001b[0m\u001b[0;34m(\u001b[0m\u001b[0;34m-\u001b[0m\u001b[0;36m1\u001b[0m\u001b[0;34m,\u001b[0m \u001b[0moutputs\u001b[0m\u001b[0;34m.\u001b[0m\u001b[0msize\u001b[0m\u001b[0;34m(\u001b[0m\u001b[0;34m-\u001b[0m\u001b[0;36m1\u001b[0m\u001b[0;34m)\u001b[0m\u001b[0;34m)\u001b[0m\u001b[0;34m\u001b[0m\u001b[0;34m\u001b[0m\u001b[0m\n\u001b[1;32m     25\u001b[0m \u001b[0;34m\u001b[0m\u001b[0m\n",
            "\u001b[0;32m/usr/local/lib/python3.10/dist-packages/torch/nn/modules/module.py\u001b[0m in \u001b[0;36m_call_impl\u001b[0;34m(self, *args, **kwargs)\u001b[0m\n\u001b[1;32m   1499\u001b[0m                 \u001b[0;32mor\u001b[0m \u001b[0m_global_backward_pre_hooks\u001b[0m \u001b[0;32mor\u001b[0m \u001b[0m_global_backward_hooks\u001b[0m\u001b[0;34m\u001b[0m\u001b[0;34m\u001b[0m\u001b[0m\n\u001b[1;32m   1500\u001b[0m                 or _global_forward_hooks or _global_forward_pre_hooks):\n\u001b[0;32m-> 1501\u001b[0;31m             \u001b[0;32mreturn\u001b[0m \u001b[0mforward_call\u001b[0m\u001b[0;34m(\u001b[0m\u001b[0;34m*\u001b[0m\u001b[0margs\u001b[0m\u001b[0;34m,\u001b[0m \u001b[0;34m**\u001b[0m\u001b[0mkwargs\u001b[0m\u001b[0;34m)\u001b[0m\u001b[0;34m\u001b[0m\u001b[0;34m\u001b[0m\u001b[0m\n\u001b[0m\u001b[1;32m   1502\u001b[0m         \u001b[0;31m# Do not call functions when jit is used\u001b[0m\u001b[0;34m\u001b[0m\u001b[0;34m\u001b[0m\u001b[0m\n\u001b[1;32m   1503\u001b[0m         \u001b[0mfull_backward_hooks\u001b[0m\u001b[0;34m,\u001b[0m \u001b[0mnon_full_backward_hooks\u001b[0m \u001b[0;34m=\u001b[0m \u001b[0;34m[\u001b[0m\u001b[0;34m]\u001b[0m\u001b[0;34m,\u001b[0m \u001b[0;34m[\u001b[0m\u001b[0;34m]\u001b[0m\u001b[0;34m\u001b[0m\u001b[0;34m\u001b[0m\u001b[0m\n",
            "\u001b[0;32m<ipython-input-25-885b93e7eb61>\u001b[0m in \u001b[0;36mforward\u001b[0;34m(self, x)\u001b[0m\n\u001b[1;32m     36\u001b[0m \u001b[0;34m\u001b[0m\u001b[0m\n\u001b[1;32m     37\u001b[0m     \u001b[0;32mdef\u001b[0m \u001b[0mforward\u001b[0m\u001b[0;34m(\u001b[0m\u001b[0mself\u001b[0m\u001b[0;34m,\u001b[0m \u001b[0mx\u001b[0m\u001b[0;34m)\u001b[0m\u001b[0;34m:\u001b[0m\u001b[0;34m\u001b[0m\u001b[0;34m\u001b[0m\u001b[0m\n\u001b[0;32m---> 38\u001b[0;31m         \u001b[0mx\u001b[0m \u001b[0;34m=\u001b[0m \u001b[0mself\u001b[0m\u001b[0;34m.\u001b[0m\u001b[0membeddings\u001b[0m\u001b[0;34m(\u001b[0m\u001b[0mx\u001b[0m\u001b[0;34m)\u001b[0m\u001b[0;34m\u001b[0m\u001b[0;34m\u001b[0m\u001b[0m\n\u001b[0m\u001b[1;32m     39\u001b[0m         \u001b[0mx\u001b[0m\u001b[0;34m,\u001b[0m \u001b[0m_\u001b[0m \u001b[0;34m=\u001b[0m \u001b[0mself\u001b[0m\u001b[0;34m.\u001b[0m\u001b[0mlstm\u001b[0m\u001b[0;34m(\u001b[0m\u001b[0mx\u001b[0m\u001b[0;34m)\u001b[0m\u001b[0;34m\u001b[0m\u001b[0;34m\u001b[0m\u001b[0m\n\u001b[1;32m     40\u001b[0m         \u001b[0mx\u001b[0m \u001b[0;34m=\u001b[0m \u001b[0mself\u001b[0m\u001b[0;34m.\u001b[0m\u001b[0mlinear\u001b[0m\u001b[0;34m(\u001b[0m\u001b[0mx\u001b[0m\u001b[0;34m)\u001b[0m\u001b[0;34m\u001b[0m\u001b[0;34m\u001b[0m\u001b[0m\n",
            "\u001b[0;32m/usr/local/lib/python3.10/dist-packages/torch/nn/modules/module.py\u001b[0m in \u001b[0;36m_call_impl\u001b[0;34m(self, *args, **kwargs)\u001b[0m\n\u001b[1;32m   1499\u001b[0m                 \u001b[0;32mor\u001b[0m \u001b[0m_global_backward_pre_hooks\u001b[0m \u001b[0;32mor\u001b[0m \u001b[0m_global_backward_hooks\u001b[0m\u001b[0;34m\u001b[0m\u001b[0;34m\u001b[0m\u001b[0m\n\u001b[1;32m   1500\u001b[0m                 or _global_forward_hooks or _global_forward_pre_hooks):\n\u001b[0;32m-> 1501\u001b[0;31m             \u001b[0;32mreturn\u001b[0m \u001b[0mforward_call\u001b[0m\u001b[0;34m(\u001b[0m\u001b[0;34m*\u001b[0m\u001b[0margs\u001b[0m\u001b[0;34m,\u001b[0m \u001b[0;34m**\u001b[0m\u001b[0mkwargs\u001b[0m\u001b[0;34m)\u001b[0m\u001b[0;34m\u001b[0m\u001b[0;34m\u001b[0m\u001b[0m\n\u001b[0m\u001b[1;32m   1502\u001b[0m         \u001b[0;31m# Do not call functions when jit is used\u001b[0m\u001b[0;34m\u001b[0m\u001b[0;34m\u001b[0m\u001b[0m\n\u001b[1;32m   1503\u001b[0m         \u001b[0mfull_backward_hooks\u001b[0m\u001b[0;34m,\u001b[0m \u001b[0mnon_full_backward_hooks\u001b[0m \u001b[0;34m=\u001b[0m \u001b[0;34m[\u001b[0m\u001b[0;34m]\u001b[0m\u001b[0;34m,\u001b[0m \u001b[0;34m[\u001b[0m\u001b[0;34m]\u001b[0m\u001b[0;34m\u001b[0m\u001b[0;34m\u001b[0m\u001b[0m\n",
            "\u001b[0;32m/usr/local/lib/python3.10/dist-packages/torch/nn/modules/sparse.py\u001b[0m in \u001b[0;36mforward\u001b[0;34m(self, input)\u001b[0m\n\u001b[1;32m    160\u001b[0m \u001b[0;34m\u001b[0m\u001b[0m\n\u001b[1;32m    161\u001b[0m     \u001b[0;32mdef\u001b[0m \u001b[0mforward\u001b[0m\u001b[0;34m(\u001b[0m\u001b[0mself\u001b[0m\u001b[0;34m,\u001b[0m \u001b[0minput\u001b[0m\u001b[0;34m:\u001b[0m \u001b[0mTensor\u001b[0m\u001b[0;34m)\u001b[0m \u001b[0;34m->\u001b[0m \u001b[0mTensor\u001b[0m\u001b[0;34m:\u001b[0m\u001b[0;34m\u001b[0m\u001b[0;34m\u001b[0m\u001b[0m\n\u001b[0;32m--> 162\u001b[0;31m         return F.embedding(\n\u001b[0m\u001b[1;32m    163\u001b[0m             \u001b[0minput\u001b[0m\u001b[0;34m,\u001b[0m \u001b[0mself\u001b[0m\u001b[0;34m.\u001b[0m\u001b[0mweight\u001b[0m\u001b[0;34m,\u001b[0m \u001b[0mself\u001b[0m\u001b[0;34m.\u001b[0m\u001b[0mpadding_idx\u001b[0m\u001b[0;34m,\u001b[0m \u001b[0mself\u001b[0m\u001b[0;34m.\u001b[0m\u001b[0mmax_norm\u001b[0m\u001b[0;34m,\u001b[0m\u001b[0;34m\u001b[0m\u001b[0;34m\u001b[0m\u001b[0m\n\u001b[1;32m    164\u001b[0m             self.norm_type, self.scale_grad_by_freq, self.sparse)\n",
            "\u001b[0;32m/usr/local/lib/python3.10/dist-packages/torch/nn/functional.py\u001b[0m in \u001b[0;36membedding\u001b[0;34m(input, weight, padding_idx, max_norm, norm_type, scale_grad_by_freq, sparse)\u001b[0m\n\u001b[1;32m   2208\u001b[0m         \u001b[0;31m# remove once script supports set_grad_enabled\u001b[0m\u001b[0;34m\u001b[0m\u001b[0;34m\u001b[0m\u001b[0m\n\u001b[1;32m   2209\u001b[0m         \u001b[0m_no_grad_embedding_renorm_\u001b[0m\u001b[0;34m(\u001b[0m\u001b[0mweight\u001b[0m\u001b[0;34m,\u001b[0m \u001b[0minput\u001b[0m\u001b[0;34m,\u001b[0m \u001b[0mmax_norm\u001b[0m\u001b[0;34m,\u001b[0m \u001b[0mnorm_type\u001b[0m\u001b[0;34m)\u001b[0m\u001b[0;34m\u001b[0m\u001b[0;34m\u001b[0m\u001b[0m\n\u001b[0;32m-> 2210\u001b[0;31m     \u001b[0;32mreturn\u001b[0m \u001b[0mtorch\u001b[0m\u001b[0;34m.\u001b[0m\u001b[0membedding\u001b[0m\u001b[0;34m(\u001b[0m\u001b[0mweight\u001b[0m\u001b[0;34m,\u001b[0m \u001b[0minput\u001b[0m\u001b[0;34m,\u001b[0m \u001b[0mpadding_idx\u001b[0m\u001b[0;34m,\u001b[0m \u001b[0mscale_grad_by_freq\u001b[0m\u001b[0;34m,\u001b[0m \u001b[0msparse\u001b[0m\u001b[0;34m)\u001b[0m\u001b[0;34m\u001b[0m\u001b[0;34m\u001b[0m\u001b[0m\n\u001b[0m\u001b[1;32m   2211\u001b[0m \u001b[0;34m\u001b[0m\u001b[0m\n\u001b[1;32m   2212\u001b[0m \u001b[0;34m\u001b[0m\u001b[0m\n",
            "\u001b[0;31mRuntimeError\u001b[0m: Expected all tensors to be on the same device, but found at least two devices, cuda:0 and cpu! (when checking argument for argument index in method wrapper_CUDA__index_select)"
          ]
        }
      ]
    },
    {
      "cell_type": "code",
      "source": [
        "print(type(data))"
      ],
      "metadata": {
        "colab": {
          "base_uri": "https://localhost:8080/"
        },
        "id": "b1gwINRiPM0h",
        "outputId": "72263130-3c2b-420a-c5a7-9c10ebd3e154"
      },
      "execution_count": null,
      "outputs": [
        {
          "output_type": "stream",
          "name": "stdout",
          "text": [
            "<class 'torch.Tensor'>\n"
          ]
        }
      ]
    },
    {
      "cell_type": "code",
      "source": [
        "from google.colab import drive\n",
        "drive.mount('/content/drive')"
      ],
      "metadata": {
        "colab": {
          "base_uri": "https://localhost:8080/"
        },
        "id": "WWqexhqkDIBw",
        "outputId": "73051e04-fd1d-444a-bb57-c84052775ea3"
      },
      "execution_count": null,
      "outputs": [
        {
          "output_type": "stream",
          "name": "stdout",
          "text": [
            "Mounted at /content/drive\n"
          ]
        }
      ]
    }
  ]
}